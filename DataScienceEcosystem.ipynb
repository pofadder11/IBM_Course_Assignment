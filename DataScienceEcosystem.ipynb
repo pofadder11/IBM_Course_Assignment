{
 "cells": [
  {
   "cell_type": "markdown",
   "id": "fdf85191-c3e0-4b5f-81c1-e56b416e4d1a",
   "metadata": {},
   "source": [
    "# Data Science Tools and Ecosystem"
   ]
  },
  {
   "cell_type": "markdown",
   "id": "a8ebc23a-4e08-4cdd-8f8e-01bb68ae2820",
   "metadata": {},
   "source": [
    "In this notebook, data science tools and ecocystems are described and summarised."
   ]
  },
  {
   "cell_type": "markdown",
   "id": "e4238dea-342f-46f3-a4b2-31998e5a22a8",
   "metadata": {},
   "source": [
    "__Objectives__\n",
    "\n",
    "- List data science languages, libraries and tools\n",
    "- Provide examples of simple code\n",
    "- Use a lot of markdown"
   ]
  },
  {
   "cell_type": "markdown",
   "id": "d54402e3-cb9f-4d40-b01c-4fbaaa9eaa1f",
   "metadata": {},
   "source": [
    "Some of the popular languages that Data Scientists use are:\n",
    "\n",
    "1. R\n",
    "2. Python\n",
    "3. Julia\n",
    "4. Java\n",
    "5. SQL"
   ]
  },
  {
   "cell_type": "markdown",
   "id": "0905eb5a-bef4-45bc-a37d-03b3e127d940",
   "metadata": {},
   "source": [
    "Some of the commonly used libraries used by Data Scientists include:\n",
    "\n",
    "1. caret (R)\n",
    "2. ggplot (R)\n",
    "3. seaborn (R)\n",
    "4. numpy (python)\n",
    "5. pandas (python)"
   ]
  },
  {
   "cell_type": "markdown",
   "id": "68ec7e0f-c939-4c9d-a55e-fbc790c81c83",
   "metadata": {},
   "source": [
    "|Data Science Tools|\n",
    "|-|\n",
    "|Tensorflow|\n",
    "|Apache Spark|\n",
    "|Apache Hadoop|\n",
    "|RSTudio|\n",
    "|Visual Studio Code|\n",
    "|MatPlotLib|"
   ]
  },
  {
   "cell_type": "markdown",
   "id": "1bf7911f-47cc-4e54-93b6-6b7fff087520",
   "metadata": {},
   "source": [
    "### Below are a few examples of evaluating arithmetic expressions in Python"
   ]
  },
  {
   "cell_type": "code",
   "execution_count": 10,
   "id": "9bb14118-82bd-49b3-b5a4-d35e528f0e2c",
   "metadata": {},
   "outputs": [
    {
     "data": {
      "text/plain": [
       "17"
      ]
     },
     "execution_count": 10,
     "metadata": {},
     "output_type": "execute_result"
    }
   ],
   "source": [
    "# This a simple arithmetic expression to multiply then add integers\n",
    "\n",
    "(3*4)+5"
   ]
  },
  {
   "cell_type": "code",
   "execution_count": 12,
   "id": "52aa2025-14a6-4df0-9f6a-504a4a99a15d",
   "metadata": {},
   "outputs": [
    {
     "name": "stdout",
     "output_type": "stream",
     "text": [
      "3.3333333333333335\n"
     ]
    }
   ],
   "source": [
    "# This will convert 200 minutes to hours by dividing by 60.\n",
    "\n",
    "minutes = 200\n",
    "hours = minutes/60\n",
    "print(hours)"
   ]
  },
  {
   "cell_type": "markdown",
   "id": "adf79175-fe52-4474-b5f8-1c21f44a750e",
   "metadata": {},
   "source": [
    "## Author\n",
    "Hannes Wiese"
   ]
  },
  {
   "cell_type": "code",
   "execution_count": null,
   "id": "96a5ae01-eb2f-4fc3-b8f2-e488d5306b63",
   "metadata": {},
   "outputs": [],
   "source": []
  }
 ],
 "metadata": {
  "kernelspec": {
   "display_name": "Python [conda env:IBMCourseTests]",
   "language": "python",
   "name": "conda-env-IBMCourseTests-py"
  },
  "language_info": {
   "codemirror_mode": {
    "name": "ipython",
    "version": 3
   },
   "file_extension": ".py",
   "mimetype": "text/x-python",
   "name": "python",
   "nbconvert_exporter": "python",
   "pygments_lexer": "ipython3",
   "version": "3.12.9"
  }
 },
 "nbformat": 4,
 "nbformat_minor": 5
}
